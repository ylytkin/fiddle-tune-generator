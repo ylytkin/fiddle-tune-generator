{
 "cells": [
  {
   "cell_type": "code",
   "execution_count": 1,
   "metadata": {},
   "outputs": [],
   "source": [
    "from pathlib import Path\n",
    "\n",
    "import pandas as pd\n",
    "\n",
    "from myutils.json_tools import load_json, save_json"
   ]
  },
  {
   "cell_type": "code",
   "execution_count": 2,
   "metadata": {},
   "outputs": [],
   "source": [
    "DATA_DIR = Path('../data')"
   ]
  },
  {
   "cell_type": "code",
   "execution_count": 3,
   "metadata": {},
   "outputs": [
    {
     "data": {
      "text/html": [
       "<div>\n",
       "<style scoped>\n",
       "    .dataframe tbody tr th:only-of-type {\n",
       "        vertical-align: middle;\n",
       "    }\n",
       "\n",
       "    .dataframe tbody tr th {\n",
       "        vertical-align: top;\n",
       "    }\n",
       "\n",
       "    .dataframe thead th {\n",
       "        text-align: right;\n",
       "    }\n",
       "</style>\n",
       "<table border=\"1\" class=\"dataframe\">\n",
       "  <thead>\n",
       "    <tr style=\"text-align: right;\">\n",
       "      <th></th>\n",
       "      <th>tune</th>\n",
       "      <th>setting</th>\n",
       "      <th>name</th>\n",
       "      <th>type</th>\n",
       "      <th>meter</th>\n",
       "      <th>mode</th>\n",
       "      <th>abc</th>\n",
       "      <th>date</th>\n",
       "      <th>username</th>\n",
       "      <th>id</th>\n",
       "      <th>abc_transposed</th>\n",
       "      <th>length</th>\n",
       "      <th>key</th>\n",
       "    </tr>\n",
       "  </thead>\n",
       "  <tbody>\n",
       "    <tr>\n",
       "      <th>0</th>\n",
       "      <td>18105</td>\n",
       "      <td>35234</td>\n",
       "      <td>$150 Boot, The</td>\n",
       "      <td>polka</td>\n",
       "      <td>2/4</td>\n",
       "      <td>maj</td>\n",
       "      <td>|: d&gt;g fe | dB AG | E/F/G E/F/G | BA GF |\\r\\nd...</td>\n",
       "      <td>2019-07-06 04:39:09</td>\n",
       "      <td>NfldWhistler</td>\n",
       "      <td>0</td>\n",
       "      <td>X: 35234\\nT: $150 Boot, The\\nR: polka\\nM: 2/4\\...</td>\n",
       "      <td>220</td>\n",
       "      <td>G</td>\n",
       "    </tr>\n",
       "    <tr>\n",
       "      <th>1</th>\n",
       "      <td>11931</td>\n",
       "      <td>11931</td>\n",
       "      <td>'G Iomain Nan Gamhna</td>\n",
       "      <td>slip jig</td>\n",
       "      <td>9/8</td>\n",
       "      <td>maj</td>\n",
       "      <td>dBB B2 A BAG|dBB Bcd efg|dBB B2 A BAG| eAA dBG...</td>\n",
       "      <td>2012-05-17 07:49:26</td>\n",
       "      <td>iliketurtles</td>\n",
       "      <td>1</td>\n",
       "      <td>X: 11931\\nT: \\'G Iomain Nan Gamhna\\nR: slip ji...</td>\n",
       "      <td>280</td>\n",
       "      <td>G</td>\n",
       "    </tr>\n",
       "    <tr>\n",
       "      <th>2</th>\n",
       "      <td>15326</td>\n",
       "      <td>28560</td>\n",
       "      <td>'S Ann An Ìle</td>\n",
       "      <td>strathspey</td>\n",
       "      <td>4/4</td>\n",
       "      <td>maj</td>\n",
       "      <td>|: G&gt;A B&gt;G c&gt;A B&gt;G | E&lt;E A&gt;G F&lt;D D2 | G&gt;A B&gt;G ...</td>\n",
       "      <td>2016-03-31 15:34:45</td>\n",
       "      <td>danninagh</td>\n",
       "      <td>2</td>\n",
       "      <td>X: 28560\\nT: \\'S Ann An Ãle\\nR: strathspey\\nM...</td>\n",
       "      <td>181</td>\n",
       "      <td>G</td>\n",
       "    </tr>\n",
       "    <tr>\n",
       "      <th>3</th>\n",
       "      <td>15326</td>\n",
       "      <td>28582</td>\n",
       "      <td>'S Ann An Ìle</td>\n",
       "      <td>strathspey</td>\n",
       "      <td>4/4</td>\n",
       "      <td>maj</td>\n",
       "      <td>uD2|:{F}v[G,2G2]uB&gt;ud c&gt;A B&gt;G|{D}E2 uA&gt;uG F&lt;D ...</td>\n",
       "      <td>2016-04-03 09:15:08</td>\n",
       "      <td>DonaldK</td>\n",
       "      <td>3</td>\n",
       "      <td>X: 28582\\nT: \\'S Ann An Ãle\\nR: strathspey\\nM...</td>\n",
       "      <td>215</td>\n",
       "      <td>G</td>\n",
       "    </tr>\n",
       "    <tr>\n",
       "      <th>4</th>\n",
       "      <td>14625</td>\n",
       "      <td>26955</td>\n",
       "      <td>'S Daor An Tabac</td>\n",
       "      <td>reel</td>\n",
       "      <td>4/4</td>\n",
       "      <td>min</td>\n",
       "      <td>eAAB eABB|eAAB gedB|eAAB eABB|G2AB gedB:|\\r\\n~...</td>\n",
       "      <td>2015-07-31 02:47:47</td>\n",
       "      <td>Charles Mackenzie</td>\n",
       "      <td>4</td>\n",
       "      <td>X:26955\\nT:\\'S Daor An Tabac\\nR:reel\\nM:4/4\\nK...</td>\n",
       "      <td>89</td>\n",
       "      <td>B</td>\n",
       "    </tr>\n",
       "  </tbody>\n",
       "</table>\n",
       "</div>"
      ],
      "text/plain": [
       "    tune setting                  name        type meter mode  \\\n",
       "0  18105   35234        $150 Boot, The       polka   2/4  maj   \n",
       "1  11931   11931  'G Iomain Nan Gamhna    slip jig   9/8  maj   \n",
       "2  15326   28560         'S Ann An Ìle  strathspey   4/4  maj   \n",
       "3  15326   28582         'S Ann An Ìle  strathspey   4/4  maj   \n",
       "4  14625   26955      'S Daor An Tabac        reel   4/4  min   \n",
       "\n",
       "                                                 abc                 date  \\\n",
       "0  |: d>g fe | dB AG | E/F/G E/F/G | BA GF |\\r\\nd...  2019-07-06 04:39:09   \n",
       "1  dBB B2 A BAG|dBB Bcd efg|dBB B2 A BAG| eAA dBG...  2012-05-17 07:49:26   \n",
       "2  |: G>A B>G c>A B>G | E<E A>G F<D D2 | G>A B>G ...  2016-03-31 15:34:45   \n",
       "3  uD2|:{F}v[G,2G2]uB>ud c>A B>G|{D}E2 uA>uG F<D ...  2016-04-03 09:15:08   \n",
       "4  eAAB eABB|eAAB gedB|eAAB eABB|G2AB gedB:|\\r\\n~...  2015-07-31 02:47:47   \n",
       "\n",
       "            username  id                                     abc_transposed  \\\n",
       "0       NfldWhistler   0  X: 35234\\nT: $150 Boot, The\\nR: polka\\nM: 2/4\\...   \n",
       "1       iliketurtles   1  X: 11931\\nT: \\'G Iomain Nan Gamhna\\nR: slip ji...   \n",
       "2          danninagh   2  X: 28560\\nT: \\'S Ann An Ãle\\nR: strathspey\\nM...   \n",
       "3            DonaldK   3  X: 28582\\nT: \\'S Ann An Ãle\\nR: strathspey\\nM...   \n",
       "4  Charles Mackenzie   4  X:26955\\nT:\\'S Daor An Tabac\\nR:reel\\nM:4/4\\nK...   \n",
       "\n",
       "   length key  \n",
       "0     220   G  \n",
       "1     280   G  \n",
       "2     181   G  \n",
       "3     215   G  \n",
       "4      89   B  "
      ]
     },
     "execution_count": 3,
     "metadata": {},
     "output_type": "execute_result"
    }
   ],
   "source": [
    "tunes_df = pd.DataFrame(load_json(DATA_DIR / 'tunes_merged.json'))\n",
    "tunes_df.head()"
   ]
  },
  {
   "cell_type": "markdown",
   "metadata": {},
   "source": [
    "The `setting` key is unique:"
   ]
  },
  {
   "cell_type": "code",
   "execution_count": 4,
   "metadata": {},
   "outputs": [
    {
     "data": {
      "text/plain": [
       "0"
      ]
     },
     "execution_count": 4,
     "metadata": {},
     "output_type": "execute_result"
    }
   ],
   "source": [
    "tunes_df['setting'].shape[0] - tunes_df['setting'].unique().shape[0]"
   ]
  },
  {
   "cell_type": "markdown",
   "metadata": {},
   "source": [
    "Tune info:"
   ]
  },
  {
   "cell_type": "code",
   "execution_count": 5,
   "metadata": {},
   "outputs": [
    {
     "data": {
      "text/plain": [
       "reel          12708\n",
       "jig            8953\n",
       "polka          2862\n",
       "waltz          2575\n",
       "hornpipe       2499\n",
       "barndance      1400\n",
       "slip jig       1265\n",
       "strathspey      977\n",
       "slide           794\n",
       "march           782\n",
       "mazurka         429\n",
       "three-two       297\n",
       "Name: type, dtype: int64"
      ]
     },
     "execution_count": 5,
     "metadata": {},
     "output_type": "execute_result"
    }
   ],
   "source": [
    "tunes_df['type'].value_counts()"
   ]
  },
  {
   "cell_type": "code",
   "execution_count": 6,
   "metadata": {},
   "outputs": [
    {
     "data": {
      "text/plain": [
       "4/4     18366\n",
       "6/8      8953\n",
       "3/4      3004\n",
       "2/4      2862\n",
       "9/8      1265\n",
       "12/8      794\n",
       "3/2       297\n",
       "Name: meter, dtype: int64"
      ]
     },
     "execution_count": 6,
     "metadata": {},
     "output_type": "execute_result"
    }
   ],
   "source": [
    "tunes_df['meter'].value_counts()"
   ]
  },
  {
   "cell_type": "code",
   "execution_count": 7,
   "metadata": {},
   "outputs": [
    {
     "data": {
      "text/plain": [
       "D    11187\n",
       "G    10633\n",
       "A     6922\n",
       "E     3766\n",
       "B     1442\n",
       "C      936\n",
       "F      655\n",
       "Name: key, dtype: int64"
      ]
     },
     "execution_count": 7,
     "metadata": {},
     "output_type": "execute_result"
    }
   ],
   "source": [
    "tunes_df['key'].value_counts()"
   ]
  },
  {
   "cell_type": "code",
   "execution_count": 8,
   "metadata": {},
   "outputs": [
    {
     "data": {
      "text/plain": [
       "maj    23146\n",
       "min     5374\n",
       "dor     4627\n",
       "mix     2394\n",
       "Name: mode, dtype: int64"
      ]
     },
     "execution_count": 8,
     "metadata": {},
     "output_type": "execute_result"
    }
   ],
   "source": [
    "tunes_df['mode'].value_counts()"
   ]
  },
  {
   "cell_type": "code",
   "execution_count": 9,
   "metadata": {},
   "outputs": [
    {
     "data": {
      "text/plain": [
       "Gmaj    9719\n",
       "Dmaj    9323\n",
       "Amaj    2493\n",
       "Ador    2108\n",
       "Emin    1906\n",
       "Edor    1604\n",
       "Bmin    1314\n",
       "Amix    1169\n",
       "Amin    1152\n",
       "Dmix    1012\n",
       "Cmaj     835\n",
       "Fmaj     578\n",
       "Dmin     505\n",
       "Gmin     497\n",
       "Ddor     347\n",
       "Gdor     285\n",
       "Emaj     198\n",
       "Gmix     132\n",
       "Bdor     105\n",
       "Cdor     101\n",
       "Fdor      77\n",
       "Emix      58\n",
       "Bmix      23\n",
       "dtype: int64"
      ]
     },
     "execution_count": 9,
     "metadata": {},
     "output_type": "execute_result"
    }
   ],
   "source": [
    "(tunes_df['key'] + tunes_df['mode']).value_counts()"
   ]
  },
  {
   "cell_type": "code",
   "execution_count": 10,
   "metadata": {},
   "outputs": [
    {
     "data": {
      "text/plain": [
       "type        mode\n",
       "barndance   dor       66\n",
       "            maj     1154\n",
       "            min      164\n",
       "            mix       16\n",
       "hornpipe    dor      195\n",
       "            maj     1984\n",
       "            min      227\n",
       "            mix       93\n",
       "jig         dor     1166\n",
       "            maj     5661\n",
       "            min     1388\n",
       "            mix      738\n",
       "march       dor       80\n",
       "            maj      526\n",
       "            min       93\n",
       "            mix       83\n",
       "mazurka     dor       19\n",
       "            maj      327\n",
       "            min       79\n",
       "            mix        4\n",
       "polka       dor      314\n",
       "            maj     2070\n",
       "            min      379\n",
       "            mix       99\n",
       "reel        dor     2158\n",
       "            maj     7611\n",
       "            min     1938\n",
       "            mix     1001\n",
       "slide       dor      108\n",
       "            maj      584\n",
       "            min       49\n",
       "            mix       53\n",
       "slip jig    dor      162\n",
       "            maj      731\n",
       "            min      272\n",
       "            mix      100\n",
       "strathspey  dor      160\n",
       "            maj      585\n",
       "            min      141\n",
       "            mix       91\n",
       "three-two   dor       27\n",
       "            maj      156\n",
       "            min       96\n",
       "            mix       18\n",
       "waltz       dor      172\n",
       "            maj     1757\n",
       "            min      548\n",
       "            mix       98\n",
       "Name: tune, dtype: int64"
      ]
     },
     "execution_count": 10,
     "metadata": {},
     "output_type": "execute_result"
    }
   ],
   "source": [
    "tunes_df.groupby(['type', 'mode']).count()['tune']"
   ]
  },
  {
   "cell_type": "markdown",
   "metadata": {},
   "source": [
    "ABC info:"
   ]
  },
  {
   "cell_type": "code",
   "execution_count": 13,
   "metadata": {},
   "outputs": [
    {
     "data": {
      "text/plain": [
       "      0.163493\n",
       "|     0.069798\n",
       "B     0.051784\n",
       "2     0.051055\n",
       "d     0.049900\n",
       "G     0.047669\n",
       "e     0.045327\n",
       "A     0.045182\n",
       "\\n    0.035590\n",
       ":     0.035086\n",
       "g     0.032249\n",
       "c     0.029144\n",
       "a     0.025197\n",
       "/     0.019216\n",
       "E     0.018600\n",
       "f     0.017969\n",
       "3     0.016994\n",
       "D     0.016114\n",
       "F     0.015128\n",
       "4     0.011410\n",
       "dtype: float64"
      ]
     },
     "execution_count": 13,
     "metadata": {},
     "output_type": "execute_result"
    }
   ],
   "source": [
    "char_counts = pd.Series(list(''.join(tunes_df['abc_transposed']))).value_counts(normalize=True)\n",
    "char_counts.head(20)"
   ]
  },
  {
   "cell_type": "code",
   "execution_count": null,
   "metadata": {},
   "outputs": [],
   "source": []
  }
 ],
 "metadata": {
  "kernelspec": {
   "display_name": "Python 3",
   "language": "python",
   "name": "python3"
  },
  "language_info": {
   "codemirror_mode": {
    "name": "ipython",
    "version": 3
   },
   "file_extension": ".py",
   "mimetype": "text/x-python",
   "name": "python",
   "nbconvert_exporter": "python",
   "pygments_lexer": "ipython3",
   "version": "3.7.7"
  }
 },
 "nbformat": 4,
 "nbformat_minor": 4
}
