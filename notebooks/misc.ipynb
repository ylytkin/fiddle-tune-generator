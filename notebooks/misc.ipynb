{
 "cells": [
  {
   "cell_type": "code",
   "execution_count": 1,
   "metadata": {},
   "outputs": [],
   "source": [
    "from pathlib import Path\n",
    "from itertools import product\n",
    "\n",
    "import tensorflow as tf\n",
    "import pandas as pd\n",
    "from sklearn.model_selection import train_test_split\n",
    "\n",
    "from myutils import log\n",
    "from myutils.json_tools import load_json, save_json"
   ]
  },
  {
   "cell_type": "code",
   "execution_count": 3,
   "metadata": {},
   "outputs": [],
   "source": [
    "ROOT_DIR = Path('..')\n",
    "DATA_DIR = ROOT_DIR / 'data'\n",
    "\n",
    "TRAIN_DATA_DIR = DATA_DIR / 'train_data'\n",
    "TRAIN_DATA_DIR.mkdir(exist_ok=True)\n",
    "\n",
    "MODELS_DIR = ROOT_DIR / 'models'\n",
    "MODELS_DIR.mkdir(exist_ok=True)\n",
    "\n",
    "PAD = 'PAD'\n",
    "BOS = 'BOS'\n",
    "EOS = 'EOS'\n",
    "\n",
    "SEQUENCE_LENGTH = 70\n",
    "\n",
    "TRAINABLE_TYPES = ['reel', 'jig', 'polka', 'waltz', 'hornpipe', 'slip jig']\n",
    "TRAINABLE_MODES = ['maj', 'min', 'dor', 'mix']\n",
    "\n",
    "EPOCHS = 15\n",
    "BATCH_SIZE = 64"
   ]
  },
  {
   "cell_type": "code",
   "execution_count": 6,
   "metadata": {},
   "outputs": [
    {
     "name": "stdout",
     "output_type": "stream",
     "text": [
      "<class 'pandas.core.frame.DataFrame'>\n",
      "RangeIndex: 35541 entries, 0 to 35540\n",
      "Data columns (total 13 columns):\n",
      " #   Column          Non-Null Count  Dtype \n",
      "---  ------          --------------  ----- \n",
      " 0   tune            35541 non-null  object\n",
      " 1   setting         35541 non-null  object\n",
      " 2   name            35541 non-null  object\n",
      " 3   type            35541 non-null  object\n",
      " 4   meter           35541 non-null  object\n",
      " 5   mode            35541 non-null  object\n",
      " 6   abc             35541 non-null  object\n",
      " 7   date            35541 non-null  object\n",
      " 8   username        35541 non-null  object\n",
      " 9   id              35541 non-null  int64 \n",
      " 10  abc_transposed  35541 non-null  object\n",
      " 11  length          35541 non-null  int64 \n",
      " 12  key             35541 non-null  object\n",
      "dtypes: int64(2), object(11)\n",
      "memory usage: 3.5+ MB\n"
     ]
    }
   ],
   "source": [
    "tunes = load_json(DATA_DIR / 'tunes_merged.json')\n",
    "tunes_df = pd.DataFrame(tunes)\n",
    "tunes_df.info()"
   ]
  },
  {
   "cell_type": "code",
   "execution_count": 7,
   "metadata": {},
   "outputs": [],
   "source": [
    "length_limit = tunes_df['length'].median() + 1.5 * tunes_df['length'].quantile(0.75)\n",
    "\n",
    "tunes_df = tunes_df[tunes_df['length'] <= length_limit]"
   ]
  },
  {
   "cell_type": "code",
   "execution_count": 9,
   "metadata": {},
   "outputs": [
    {
     "data": {
      "text/plain": [
       "143"
      ]
     },
     "execution_count": 9,
     "metadata": {},
     "output_type": "execute_result"
    }
   ],
   "source": [
    "char_counts = pd.Series(list(''.join(tunes_df['abc_transposed']))).value_counts()\n",
    "\n",
    "chars = set(char_counts.index.tolist())\n",
    "chars.update([PAD, BOS, EOS])\n",
    "\n",
    "n_chars = len(chars)\n",
    "char2id = dict(zip(chars, range(n_chars)))\n",
    "\n",
    "n_chars"
   ]
  },
  {
   "cell_type": "code",
   "execution_count": 11,
   "metadata": {},
   "outputs": [
    {
     "data": {
      "text/plain": [
       "((366865, 70, 143), (366865, 143))"
      ]
     },
     "execution_count": 11,
     "metadata": {},
     "output_type": "execute_result"
    }
   ],
   "source": [
    "tune_type = 'polka'\n",
    "tune_mode = 'maj'\n",
    "\n",
    "current_tunes_df = tunes_df[(tunes_df['type'] == tune_type) & (tunes_df['mode'] == tune_mode)].copy(deep=True)\n",
    "\n",
    "chars = set(char2id.keys())\n",
    "n_chars = len(chars)\n",
    "\n",
    "pad_id = char2id[PAD]\n",
    "bos_id = char2id[BOS]\n",
    "eos_id = char2id[EOS]\n",
    "\n",
    "x = []\n",
    "y = []\n",
    "\n",
    "for _, row in current_tunes_df.iterrows():\n",
    "    tune = row['abc_transposed']\n",
    "\n",
    "    if len(set(tune) - chars) > 0:\n",
    "        continue\n",
    "\n",
    "    encoded_tune = [char2id[char] for char in tune]\n",
    "    encoded_tune = [pad_id] * (SEQUENCE_LENGTH - 1) + [bos_id] + encoded_tune + [eos_id]\n",
    "\n",
    "    for i in range(len(encoded_tune) - SEQUENCE_LENGTH):\n",
    "        j = i + SEQUENCE_LENGTH\n",
    "\n",
    "        x.append(encoded_tune[i:j])\n",
    "        y.append(encoded_tune[j])\n",
    "\n",
    "x = tf.keras.utils.to_categorical(x, num_classes=n_chars, dtype='int8')\n",
    "y = tf.keras.utils.to_categorical(y, num_classes=n_chars, dtype='int8')\n",
    "\n",
    "x.shape, y.shape"
   ]
  },
  {
   "cell_type": "code",
   "execution_count": 18,
   "metadata": {},
   "outputs": [],
   "source": [
    "import numpy as np\n",
    "from scipy import sparse"
   ]
  },
  {
   "cell_type": "code",
   "execution_count": null,
   "metadata": {},
   "outputs": [],
   "source": [
    "for i in range(x.shape[1]):\n",
    "    x_slice = x[:, i, :]\n",
    "    x_slice = sparse.csr_matrix(x_slice)\n",
    "    \n",
    "    sparse.save_npz('')"
   ]
  },
  {
   "cell_type": "code",
   "execution_count": 17,
   "metadata": {},
   "outputs": [],
   "source": [
    "x_ = x[:, 0, :]"
   ]
  },
  {
   "cell_type": "code",
   "execution_count": 19,
   "metadata": {},
   "outputs": [],
   "source": [
    "np.save('x.npy', x_)"
   ]
  },
  {
   "cell_type": "code",
   "execution_count": 20,
   "metadata": {},
   "outputs": [],
   "source": [
    "sparse.save_npz('x.npz', sparse.csr_matrix(x_))"
   ]
  },
  {
   "cell_type": "code",
   "execution_count": 16,
   "metadata": {},
   "outputs": [
    {
     "data": {
      "text/plain": [
       "(366865, 143)"
      ]
     },
     "execution_count": 16,
     "metadata": {},
     "output_type": "execute_result"
    }
   ],
   "source": [
    "x[:, 0, :].shape"
   ]
  },
  {
   "cell_type": "code",
   "execution_count": null,
   "metadata": {},
   "outputs": [],
   "source": []
  }
 ],
 "metadata": {
  "kernelspec": {
   "display_name": "Python 3",
   "language": "python",
   "name": "python3"
  },
  "language_info": {
   "codemirror_mode": {
    "name": "ipython",
    "version": 3
   },
   "file_extension": ".py",
   "mimetype": "text/x-python",
   "name": "python",
   "nbconvert_exporter": "python",
   "pygments_lexer": "ipython3",
   "version": "3.7.7"
  }
 },
 "nbformat": 4,
 "nbformat_minor": 4
}
